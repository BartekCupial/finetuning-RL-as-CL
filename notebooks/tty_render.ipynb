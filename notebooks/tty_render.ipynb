{
 "cells": [
  {
   "cell_type": "code",
   "execution_count": 1,
   "metadata": {},
   "outputs": [],
   "source": [
    "import sys\n",
    "from timeit import timeit\n",
    "from os.path import join\n",
    "\n",
    "import numpy as np\n",
    "\n",
    "from nle import nethack\n",
    "\n",
    "from sample_factory.algo.utils.context import global_model_factory, sf_global_context\n",
    "from sample_factory.cfg.arguments import load_from_path, parse_full_cfg, parse_sf_args\n",
    "from sample_factory.envs.env_utils import register_env\n",
    "from sample_factory.utils.typing import ActionSpace, Config, ObsSpace\n",
    "from sample_factory.utils.utils import log\n",
    "from sample_factory.utils.attr_dict import AttrDict\n",
    "from sample_factory.algo.utils.env_info import extract_env_info\n",
    "from sample_factory.algo.utils.make_env import make_env_func_batched\n",
    "from sf_examples.nethack.nethack_params import (\n",
    "    add_extra_params_general,\n",
    "    add_extra_params_learner,\n",
    "    add_extra_params_model,\n",
    "    add_extra_params_nethack_env,\n",
    "    nethack_override_defaults,\n",
    ")\n",
    "from sf_examples.nethack.nethack_utils import NETHACK_ENVS, make_nethack_env"
   ]
  },
  {
   "cell_type": "code",
   "execution_count": 2,
   "metadata": {},
   "outputs": [],
   "source": [
    "for env_name in NETHACK_ENVS.keys():\n",
    "    register_env(env_name, make_nethack_env)"
   ]
  },
  {
   "cell_type": "code",
   "execution_count": 3,
   "metadata": {},
   "outputs": [],
   "source": [
    "def parse_nethack_args(argv=None, evaluation=False):\n",
    "    parser, partial_cfg = parse_sf_args(argv=argv, evaluation=evaluation)\n",
    "    add_extra_params_nethack_env(parser)\n",
    "    add_extra_params_model(parser)\n",
    "    add_extra_params_learner(parser)\n",
    "    add_extra_params_general(parser)\n",
    "    nethack_override_defaults(partial_cfg.env, parser)\n",
    "    final_cfg = parse_full_cfg(parser, argv)\n",
    "    return final_cfg"
   ]
  },
  {
   "cell_type": "code",
   "execution_count": 4,
   "metadata": {},
   "outputs": [],
   "source": [
    "cfg = parse_nethack_args(argv=[\"--env=challenge\"], evaluation=True)"
   ]
  },
  {
   "cell_type": "code",
   "execution_count": 5,
   "metadata": {},
   "outputs": [],
   "source": [
    "render_mode = \"rgb_array\""
   ]
  },
  {
   "cell_type": "code",
   "execution_count": 6,
   "metadata": {},
   "outputs": [
    {
     "name": "stderr",
     "output_type": "stream",
     "text": [
      "/home/bartek/Workspace/ideas/sample-factory/sample_factory/algo/utils/gymnasium_utils.py:73: UserWarning: You provided an OpenAI Gym environment. We strongly recommend transitioning to Gymnasium environments. Sample Factory is automatically wrapping your environments in a compatibility layer, which could potentially cause issues.\n",
      "  warnings.warn(\n"
     ]
    }
   ],
   "source": [
    "env = make_env_func_batched(\n",
    "    cfg, env_config=AttrDict(worker_index=0, vector_index=0, env_id=0), render_mode=render_mode\n",
    ")\n",
    "env_info = extract_env_info(env, cfg)"
   ]
  },
  {
   "cell_type": "code",
   "execution_count": 7,
   "metadata": {},
   "outputs": [],
   "source": [
    "obs = env.reset()"
   ]
  },
  {
   "cell_type": "code",
   "execution_count": 8,
   "metadata": {},
   "outputs": [
    {
     "name": "stderr",
     "output_type": "stream",
     "text": [
      "/home/bartek/anaconda3/envs/nethack/lib/python3.10/site-packages/gymnasium/core.py:311: UserWarning: WARN: env.last_observation to get variables from other wrappers is deprecated and will be removed in v1.0, to get this variable you can do `env.unwrapped.last_observation` for environment variables or `env.get_wrapper_attr('last_observation')` that will search the reminding wrappers.\n",
      "  logger.warn(\n"
     ]
    }
   ],
   "source": [
    "obs = env.last_observation\n",
    "tty_chars, tty_colors, tty_cursor = obs[2], obs[3], obs[4]\n",
    "ascii_observation = nethack.tty_render(tty_chars, tty_colors, tty_cursor)"
   ]
  },
  {
   "cell_type": "code",
   "execution_count": 9,
   "metadata": {},
   "outputs": [
    {
     "name": "stdout",
     "output_type": "stream",
     "text": [
      "Konnichi wa Agent, welcome to NetHack!  You are a lawful male human Samurai.    \n",
      "                                                                                \n",
      "                                                                                \n",
      "                                                                                \n",
      "                                                                                \n",
      "                                                                                \n",
      "                                                                                \n",
      "                                                                                \n",
      "                                                                                \n",
      "                                                                                \n",
      "                                                                                \n",
      "                                                                                \n",
      "                                                                -.---------     \n",
      "                                                                |.........|     \n",
      "                                                                |.........|     \n",
      "                                                                |.........|     \n",
      "                                                                ...@......|    \n",
      "                                                                |..d......|     \n",
      "                                                                |...:.....|     \n",
      "                                                                -----------     \n",
      "                                                                                \n",
      "                                                                                \n",
      "Agent the Hatamoto             St:13 Dx:18 Co:18 In:9 Wi:9 Ch:8 Lawful S:0      \n",
      "Dlvl:1 $:0 HP:15(15) Pw:2(2) AC:4 Xp:1/0 T:1                                    \n"
     ]
    }
   ],
   "source": [
    "print(ascii_observation)"
   ]
  },
  {
   "cell_type": "markdown",
   "metadata": {},
   "source": [
    "### Old tty_render"
   ]
  },
  {
   "cell_type": "code",
   "execution_count": null,
   "metadata": {},
   "outputs": [],
   "source": [
    "def tty_render(chars, colors, cursor=None):\n",
    "    \"\"\"Returns chars as string with ANSI escape sequences.\n",
    "\n",
    "    Args:\n",
    "      chars: A row x columns numpy array of chars.\n",
    "      colors: A numpy array of colors (0-15), same shape as chars.\n",
    "      cursor: An optional (row, column) index for the cursor,\n",
    "        displayed as underlined.\n",
    "\n",
    "    Returns:\n",
    "      A string with chars decorated by ANSI escape sequences.\n",
    "    \"\"\"\n",
    "    rows, cols = chars.shape\n",
    "    if cursor is None:\n",
    "        cursor = (-1, -1)\n",
    "    cursor = tuple(cursor)\n",
    "    result = \"\"\n",
    "    for i in range(rows):\n",
    "        result += \"\\n\"\n",
    "        for j in range(cols):\n",
    "            entry = \"\\033[%d;3%dm%s\" % (\n",
    "                # & 8 checks for brightness.\n",
    "                bool(colors[i, j] & 8),\n",
    "                colors[i, j] & ~8,\n",
    "                chr(chars[i, j]),\n",
    "            )\n",
    "            if cursor != (i, j):\n",
    "                result += entry\n",
    "            else:\n",
    "                result += \"\\033[4m%s\\033[0m\" % entry\n",
    "    return result + \"\\033[0m\"\n"
   ]
  },
  {
   "cell_type": "code",
   "execution_count": 38,
   "metadata": {},
   "outputs": [
    {
     "name": "stdout",
     "output_type": "stream",
     "text": [
      "7.78 ms ± 93.1 µs per loop (mean ± std. dev. of 7 runs, 100 loops each)\n"
     ]
    }
   ],
   "source": [
    "%%timeit\n",
    "tty_render(tty_chars, tty_colors, tty_cursor)"
   ]
  },
  {
   "cell_type": "markdown",
   "metadata": {},
   "source": [
    "### Faster tty_render"
   ]
  },
  {
   "cell_type": "code",
   "execution_count": 157,
   "metadata": {},
   "outputs": [],
   "source": [
    "def tty_render_vectorized(chars, colors, cursor=None):\n",
    "    \"\"\"Returns chars as string with ANSI escape sequences.\n",
    "\n",
    "    Args:\n",
    "      chars: A row x columns numpy array of chars.\n",
    "      colors: A numpy array of colors (0-15), same shape as chars.\n",
    "      cursor: An optional (row, column) index for the cursor,\n",
    "        displayed as underlined.\n",
    "\n",
    "    Returns:\n",
    "      A string with chars decorated by ANSI escape sequences.\n",
    "    \"\"\"\n",
    "    # Generate ANSI escape sequences for each element in chars and colors\n",
    "    entries = np.char.add(\n",
    "        np.char.add(\n",
    "            np.char.add(\n",
    "                np.char.add(\n",
    "                    \"\\033[\",\n",
    "                    np.where(colors & 8, \"1;\", \"0;\"),\n",
    "                ),\n",
    "                np.char.add(\n",
    "                    \"3\",\n",
    "                    np.char.mod(\"%d\", colors & ~8),\n",
    "                ),\n",
    "            ),\n",
    "            \"m\",\n",
    "        ),\n",
    "        np.char.mod(\"%c\", chars),\n",
    "    )\n",
    "\n",
    "    # Add cursor \n",
    "    if cursor is not None:\n",
    "        entries = entries.astype(\"<U16\")\n",
    "        cursor = tuple(cursor)\n",
    "        entries[cursor] = np.char.add(\"\\033[4m\", np.char.add(entries[cursor], \"\\033[0m\"))\n",
    "\n",
    "    # Combine entries into a string and add reset escape sequence at the end\n",
    "    result = \"\\n\".join(np.apply_along_axis(\"\".join, 1, entries)) + \"\\033[0m\"\n",
    "\n",
    "    return result"
   ]
  },
  {
   "cell_type": "code",
   "execution_count": 158,
   "metadata": {},
   "outputs": [
    {
     "name": "stdout",
     "output_type": "stream",
     "text": [
      "Hello Agent, welcome to NetHack!  You are a chaotic female human Rogue.         \n",
      "                                                                                \n",
      "                                                                                \n",
      "                                                                                \n",
      "                                                                                \n",
      "                                                                                \n",
      "                                                                                \n",
      "                                                                                \n",
      "                                                                                \n",
      "                                                                                \n",
      "                                                                                \n",
      "                                                                                \n",
      "                                                                                \n",
      "                                                                                \n",
      "                   -----                                                        \n",
      "                   |...|                                                        \n",
      "                   |.Fd|                                                        \n",
      "                   |.@.|                                                       \n",
      "                   ....|                                                        \n",
      "                   |....                                                        \n",
      "                   -----                                                        \n",
      "                                                                                \n",
      "Agent the Footpad              St:12 Dx:17 Co:17 In:9 Wi:8 Ch:10 Chaotic S:0    \n",
      "Dlvl:1 $:0 HP:12(12) Pw:2(2) AC:7 Xp:1/0 T:1                                    \n"
     ]
    }
   ],
   "source": [
    "print(tty_render_vectorized(tty_chars, tty_colors, tty_cursor))"
   ]
  },
  {
   "cell_type": "code",
   "execution_count": 159,
   "metadata": {},
   "outputs": [
    {
     "name": "stdout",
     "output_type": "stream",
     "text": [
      "4.51 ms ± 149 µs per loop (mean ± std. dev. of 7 runs, 100 loops each)\n"
     ]
    }
   ],
   "source": [
    "%%timeit\n",
    "tty_render_vectorized(tty_chars, tty_colors, tty_cursor)"
   ]
  },
  {
   "cell_type": "code",
   "execution_count": 11,
   "metadata": {},
   "outputs": [
    {
     "data": {
      "text/plain": [
       "1.7250554323725056"
      ]
     },
     "execution_count": 11,
     "metadata": {},
     "output_type": "execute_result"
    }
   ],
   "source": [
    "7.78 / 4.51"
   ]
  },
  {
   "cell_type": "markdown",
   "metadata": {},
   "source": [
    "### new implementation is 72% faster"
   ]
  },
  {
   "cell_type": "code",
   "execution_count": null,
   "metadata": {},
   "outputs": [],
   "source": []
  }
 ],
 "metadata": {
  "kernelspec": {
   "display_name": "nethack",
   "language": "python",
   "name": "python3"
  },
  "language_info": {
   "codemirror_mode": {
    "name": "ipython",
    "version": 3
   },
   "file_extension": ".py",
   "mimetype": "text/x-python",
   "name": "python",
   "nbconvert_exporter": "python",
   "pygments_lexer": "ipython3",
   "version": "3.10.13"
  }
 },
 "nbformat": 4,
 "nbformat_minor": 2
}
