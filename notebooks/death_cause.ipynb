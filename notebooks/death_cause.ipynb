{
 "cells": [
  {
   "cell_type": "code",
   "execution_count": 2,
   "metadata": {},
   "outputs": [],
   "source": [
    "import ast\n",
    "import json\n",
    "\n",
    "from pathlib import Path\n",
    "\n",
    "import matplotlib.pyplot as plt\n",
    "import pandas as pd\n",
    "import seaborn as sns\n",
    "import numpy as np\n",
    "import os\n",
    "import wandb"
   ]
  },
  {
   "cell_type": "code",
   "execution_count": 3,
   "metadata": {},
   "outputs": [],
   "source": [
    "api = wandb.Api()"
   ]
  },
  {
   "cell_type": "code",
   "execution_count": 4,
   "metadata": {},
   "outputs": [],
   "source": [
    "def get_experiment_data(filters, name):\n",
    "    runs = api.runs(\"bartekcupial/sf2_nethack\", filters=filters)\n",
    "    data = []\n",
    "    for run in runs:\n",
    "        try:\n",
    "            artifact = api.artifact(f\"bartekcupial/sf2_nethack/run-{run.id}-table_results:v1\")\n",
    "            artifact_path = Path(\"artifacts\") / f\"run-{run.id}-table_results:v1\" / \"table_results.table.json\"\n",
    "            if artifact_path.exists():\n",
    "                table = wandb.Table.from_json(json.load(open(artifact_path, \"r+\")), artifact)\n",
    "            else:\n",
    "                table = artifact.get(\"table_results\")\n",
    "            df = table.get_dataframe()\n",
    "            df[\"seed\"] = run.config[\"seed\"]\n",
    "            df[\"train/env_steps\"] = run.summary_metrics[\"train/env_steps\"]\n",
    "            df[\"train_dir\"] = run.config[\"train_dir\"]\n",
    "            df[\"name\"] = name\n",
    "            df[\"exp_tag\"] = ast.literal_eval(run.config[\"exp_tags\"])[0]\n",
    "            data.append(df)\n",
    "        except Exception as e:\n",
    "            pass\n",
    "\n",
    "    df = pd.concat(data, axis=0).reset_index()\n",
    "    df.reset_index(drop=True, inplace=True)\n",
    "    return df"
   ]
  },
  {
   "cell_type": "code",
   "execution_count": 5,
   "metadata": {},
   "outputs": [],
   "source": [
    "data = get_experiment_data({\"config.exp_tags\": \"['2024_02_02_eval_full']\"}, \"all\")"
   ]
  },
  {
   "cell_type": "code",
   "execution_count": 13,
   "metadata": {},
   "outputs": [],
   "source": [
    "data[\"exp_tag\"] = data[\"train_dir\"].apply(lambda x: \"-\".join(x.split(\"/\")[-2].split(\"-\")[:-1]))"
   ]
  },
  {
   "cell_type": "code",
   "execution_count": 14,
   "metadata": {},
   "outputs": [],
   "source": [
    "dd = pd.read_csv(\"notebooks/cloned_expert_500_human_monk.csv\")\n",
    "dd[\"exp_tag\"] = \"pretrained\"\n",
    "data = pd.concat([data, dd], axis=0)"
   ]
  },
  {
   "cell_type": "code",
   "execution_count": 15,
   "metadata": {},
   "outputs": [
    {
     "data": {
      "text/html": [
       "<div>\n",
       "<style scoped>\n",
       "    .dataframe tbody tr th:only-of-type {\n",
       "        vertical-align: middle;\n",
       "    }\n",
       "\n",
       "    .dataframe tbody tr th {\n",
       "        vertical-align: top;\n",
       "    }\n",
       "\n",
       "    .dataframe thead th {\n",
       "        text-align: right;\n",
       "    }\n",
       "</style>\n",
       "<table border=\"1\" class=\"dataframe\">\n",
       "  <thead>\n",
       "    <tr style=\"text-align: right;\">\n",
       "      <th></th>\n",
       "      <th>score</th>\n",
       "    </tr>\n",
       "    <tr>\n",
       "      <th>exp_tag</th>\n",
       "      <th></th>\n",
       "    </tr>\n",
       "  </thead>\n",
       "  <tbody>\n",
       "    <tr>\n",
       "      <th>2024-01-23-monk-appo</th>\n",
       "      <td>500</td>\n",
       "    </tr>\n",
       "    <tr>\n",
       "      <th>2024-01-23-monk-appo-bc-t</th>\n",
       "      <td>389</td>\n",
       "    </tr>\n",
       "    <tr>\n",
       "      <th>2024-01-23-monk-appo-ks-t</th>\n",
       "      <td>499</td>\n",
       "    </tr>\n",
       "    <tr>\n",
       "      <th>2024-01-23-monk-appo-t</th>\n",
       "      <td>515</td>\n",
       "    </tr>\n",
       "    <tr>\n",
       "      <th>2024-01-29-monk-appo-ewc-t</th>\n",
       "      <td>488</td>\n",
       "    </tr>\n",
       "    <tr>\n",
       "      <th>pretrained</th>\n",
       "      <td>482</td>\n",
       "    </tr>\n",
       "  </tbody>\n",
       "</table>\n",
       "</div>"
      ],
      "text/plain": [
       "                            score\n",
       "exp_tag                          \n",
       "2024-01-23-monk-appo          500\n",
       "2024-01-23-monk-appo-bc-t     389\n",
       "2024-01-23-monk-appo-ks-t     499\n",
       "2024-01-23-monk-appo-t        515\n",
       "2024-01-29-monk-appo-ewc-t    488\n",
       "pretrained                    482"
      ]
     },
     "execution_count": 15,
     "metadata": {},
     "output_type": "execute_result"
    }
   ],
   "source": [
    "data[[\"score\", \"exp_tag\"]].groupby(\"exp_tag\").count()"
   ]
  },
  {
   "cell_type": "code",
   "execution_count": 18,
   "metadata": {},
   "outputs": [
    {
     "data": {
      "text/plain": [
       "0       True\n",
       "1       True\n",
       "2       True\n",
       "3       True\n",
       "4       True\n",
       "       ...  \n",
       "477     True\n",
       "478     True\n",
       "479     True\n",
       "480    False\n",
       "481     True\n",
       "Name: death, Length: 2873, dtype: bool"
      ]
     },
     "execution_count": 18,
     "metadata": {},
     "output_type": "execute_result"
    }
   ],
   "source": []
  },
  {
   "cell_type": "code",
   "execution_count": 20,
   "metadata": {},
   "outputs": [
    {
     "data": {
      "text/html": [
       "<div>\n",
       "<style scoped>\n",
       "    .dataframe tbody tr th:only-of-type {\n",
       "        vertical-align: middle;\n",
       "    }\n",
       "\n",
       "    .dataframe tbody tr th {\n",
       "        vertical-align: top;\n",
       "    }\n",
       "\n",
       "    .dataframe thead th {\n",
       "        text-align: right;\n",
       "    }\n",
       "</style>\n",
       "<table border=\"1\" class=\"dataframe\">\n",
       "  <thead>\n",
       "    <tr style=\"text-align: right;\">\n",
       "      <th></th>\n",
       "      <th>score</th>\n",
       "    </tr>\n",
       "    <tr>\n",
       "      <th>exp_tag</th>\n",
       "      <th></th>\n",
       "    </tr>\n",
       "  </thead>\n",
       "  <tbody>\n",
       "    <tr>\n",
       "      <th>2024-01-23-monk-appo</th>\n",
       "      <td>653.295699</td>\n",
       "    </tr>\n",
       "    <tr>\n",
       "      <th>2024-01-23-monk-appo-bc-t</th>\n",
       "      <td>7568.108696</td>\n",
       "    </tr>\n",
       "    <tr>\n",
       "      <th>2024-01-23-monk-appo-ks-t</th>\n",
       "      <td>10296.000000</td>\n",
       "    </tr>\n",
       "    <tr>\n",
       "      <th>2024-01-23-monk-appo-t</th>\n",
       "      <td>498.069182</td>\n",
       "    </tr>\n",
       "    <tr>\n",
       "      <th>2024-01-29-monk-appo-ewc-t</th>\n",
       "      <td>3030.245763</td>\n",
       "    </tr>\n",
       "    <tr>\n",
       "      <th>pretrained</th>\n",
       "      <td>3492.406015</td>\n",
       "    </tr>\n",
       "  </tbody>\n",
       "</table>\n",
       "</div>"
      ],
      "text/plain": [
       "                                   score\n",
       "exp_tag                                 \n",
       "2024-01-23-monk-appo          653.295699\n",
       "2024-01-23-monk-appo-bc-t    7568.108696\n",
       "2024-01-23-monk-appo-ks-t   10296.000000\n",
       "2024-01-23-monk-appo-t        498.069182\n",
       "2024-01-29-monk-appo-ewc-t   3030.245763\n",
       "pretrained                   3492.406015"
      ]
     },
     "execution_count": 20,
     "metadata": {},
     "output_type": "execute_result"
    }
   ],
   "source": [
    "data[data[\"death\"] == \"quit\"][[\"score\", \"exp_tag\"]].groupby(\"exp_tag\").mean()"
   ]
  },
  {
   "cell_type": "code",
   "execution_count": 19,
   "metadata": {},
   "outputs": [
    {
     "data": {
      "text/html": [
       "<div>\n",
       "<style scoped>\n",
       "    .dataframe tbody tr th:only-of-type {\n",
       "        vertical-align: middle;\n",
       "    }\n",
       "\n",
       "    .dataframe tbody tr th {\n",
       "        vertical-align: top;\n",
       "    }\n",
       "\n",
       "    .dataframe thead th {\n",
       "        text-align: right;\n",
       "    }\n",
       "</style>\n",
       "<table border=\"1\" class=\"dataframe\">\n",
       "  <thead>\n",
       "    <tr style=\"text-align: right;\">\n",
       "      <th></th>\n",
       "      <th>score</th>\n",
       "    </tr>\n",
       "    <tr>\n",
       "      <th>exp_tag</th>\n",
       "      <th></th>\n",
       "    </tr>\n",
       "  </thead>\n",
       "  <tbody>\n",
       "    <tr>\n",
       "      <th>2024-01-23-monk-appo</th>\n",
       "      <td>875.458599</td>\n",
       "    </tr>\n",
       "    <tr>\n",
       "      <th>2024-01-23-monk-appo-bc-t</th>\n",
       "      <td>7202.364431</td>\n",
       "    </tr>\n",
       "    <tr>\n",
       "      <th>2024-01-23-monk-appo-ks-t</th>\n",
       "      <td>10582.916840</td>\n",
       "    </tr>\n",
       "    <tr>\n",
       "      <th>2024-01-23-monk-appo-t</th>\n",
       "      <td>1230.939086</td>\n",
       "    </tr>\n",
       "    <tr>\n",
       "      <th>2024-01-29-monk-appo-ewc-t</th>\n",
       "      <td>4096.883784</td>\n",
       "    </tr>\n",
       "    <tr>\n",
       "      <th>pretrained</th>\n",
       "      <td>5215.005731</td>\n",
       "    </tr>\n",
       "  </tbody>\n",
       "</table>\n",
       "</div>"
      ],
      "text/plain": [
       "                                   score\n",
       "exp_tag                                 \n",
       "2024-01-23-monk-appo          875.458599\n",
       "2024-01-23-monk-appo-bc-t    7202.364431\n",
       "2024-01-23-monk-appo-ks-t   10582.916840\n",
       "2024-01-23-monk-appo-t       1230.939086\n",
       "2024-01-29-monk-appo-ewc-t   4096.883784\n",
       "pretrained                   5215.005731"
      ]
     },
     "execution_count": 19,
     "metadata": {},
     "output_type": "execute_result"
    }
   ],
   "source": [
    "data[data[\"death\"] != \"quit\"][[\"score\", \"exp_tag\"]].groupby(\"exp_tag\").mean()"
   ]
  },
  {
   "cell_type": "code",
   "execution_count": null,
   "metadata": {},
   "outputs": [
    {
     "name": "stdout",
     "output_type": "stream",
     "text": [
      "Top 10 most common deaths for: 2024-01-23-monk-appo-ks-t\n",
      " chance                                  death\n",
      " 38.48%                lack of food|starvation\n",
      "  3.61%                killed by a soldier ant\n",
      "  3.61%                                   quit\n",
      "  2.61%              killed by a white unicorn\n",
      "  2.00% poisoned by a rotted glob of gray ooze\n",
      "  2.00%   killed by the wrath of Chih Sung-tzu\n",
      "  1.80%             petrified by a chickatrice\n",
      "  1.80%               killed by a Woodland-elf\n",
      "  1.40%                       killed by a wand\n",
      "  1.40%                      killed by a guard\n",
      "Top 10 most common deaths for: 2024-01-23-monk-appo-bc-t\n",
      " chance                                    death\n",
      " 50.13%                  lack of food|starvation\n",
      " 11.83%                                     quit\n",
      "  2.06%     killed by the wrath of Chih Sung-tzu\n",
      "  1.80%                     killed by a hill orc\n",
      "  1.29%                         killed by a wand\n",
      "  1.29%                  killed by a soldier ant\n",
      "  1.03%                 killed by a bolt of cold\n",
      "  1.03%                      killed by a wererat\n",
      "  0.77%                 killed by a Woodland-elf\n",
      "  0.51% poisoned by a rotted floating eye corpse\n",
      "Top 10 most common deaths for: 2024-01-29-monk-appo-ewc-t\n",
      " chance                                  death\n",
      " 38.93%                lack of food|starvation\n",
      " 24.18%                                   quit\n",
      "  1.64% poisoned by a rotted glob of gray ooze\n",
      "  1.23%   killed by the wrath of Chih Sung-tzu\n",
      "  1.02%      killed by a gas spore's explosion\n",
      "  1.02%                   killed by a hill orc\n",
      "  0.82%               killed by a bolt of cold\n",
      "  0.82%                      killed by a dwarf\n",
      "  0.82%                     killed by a kitten\n",
      "  0.82%                 killed by a little dog\n",
      "Top 10 most common deaths for: 2024-01-23-monk-appo-t\n",
      " chance                                                   death\n",
      " 61.75%                                                    quit\n",
      " 20.39%                                 lack of food|starvation\n",
      "  2.33%                    killed by the wrath of Chih Sung-tzu\n",
      "  1.94%                                 choked on a food ration\n",
      "  1.17%                      poisoned by a rotted kobold corpse\n",
      "  0.97%                        poisoned by a rotted newt corpse\n",
      "  0.58%                                   killed by a bear trap\n",
      "  0.58%                                killed by a bolt of cold\n",
      "  0.39% killed by a homunculus while frozen by a monster's gaze\n",
      "  0.39%            killed by a water elemental of Chih Sung-tzu\n",
      "Top 10 most common deaths for: 2024-01-23-monk-appo\n",
      " chance                                                death\n",
      " 37.20%                                                 quit\n",
      " 31.40%                              lack of food|starvation\n",
      "  2.80%                 killed by the wrath of Chih Sung-tzu\n",
      "  2.40%                                   killed by a kitten\n",
      "  1.20%                               killed by a little dog\n",
      "  0.80%    poisoned by a rotted iguana corpse while helpless\n",
      "  0.80% killed by an iguana while frozen by a monster's gaze\n",
      "  0.80%                                   killed by a goblin\n",
      "  0.80%                             killed by a bolt of fire\n",
      "  0.80%        killed by an earth elemental of Chih Sung-tzu\n",
      "Top 10 most common deaths for: pretrained\n",
      " chance                                  death\n",
      " 27.59%                                   quit\n",
      " 24.48%                lack of food|starvation\n",
      "  1.66%                       killed by a wand\n",
      "  1.66%     poisoned by a rotted jackal corpse\n",
      "  1.24% poisoned by a rotted glob of gray ooze\n",
      "  1.04%                      killed by a rothe\n",
      "  1.04%      poisoned by a rotted gnome corpse\n",
      "  0.83%  poisoned by a rotted giant rat corpse\n",
      "  0.83%   poisoned by a rotted hill orc corpse\n",
      "  0.83%                killed by a soldier ant\n"
     ]
    }
   ],
   "source": [
    "for tag in data[\"exp_tag\"].unique():\n",
    "    method_data = data[data[\"exp_tag\"] == tag]\n",
    "    method_data.loc[method_data[\"death\"].str.contains(\"lack of food|starvation\"), \"death\"] = \"lack of food|starvation\"\n",
    "    unique, counts = np.unique(method_data[\"death\"].to_numpy(), return_counts=True)\n",
    "\n",
    "    c = counts[counts.argsort()[::-1]] / len(method_data) * 100\n",
    "    u = unique[counts.argsort()[::-1]]\n",
    "    df = pd.DataFrame({\"chance\": c, \"death\": u})\n",
    "    \n",
    "    print(f\"Top 10 most common deaths for: {tag}\")\n",
    "    print(df[:10].to_string(float_format=\"{:0.2f}%\".format, index=False))"
   ]
  },
  {
   "cell_type": "code",
   "execution_count": null,
   "metadata": {},
   "outputs": [],
   "source": []
  }
 ],
 "metadata": {
  "kernelspec": {
   "display_name": "sf_nethack",
   "language": "python",
   "name": "python3"
  },
  "language_info": {
   "codemirror_mode": {
    "name": "ipython",
    "version": 3
   },
   "file_extension": ".py",
   "mimetype": "text/x-python",
   "name": "python",
   "nbconvert_exporter": "python",
   "pygments_lexer": "ipython3",
   "version": "3.10.13"
  }
 },
 "nbformat": 4,
 "nbformat_minor": 2
}
