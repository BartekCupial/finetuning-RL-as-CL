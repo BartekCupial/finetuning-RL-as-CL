{
 "cells": [
  {
   "cell_type": "code",
   "execution_count": 1,
   "metadata": {},
   "outputs": [],
   "source": [
    "import ast\n",
    "import json\n",
    "\n",
    "from pathlib import Path\n",
    "\n",
    "import matplotlib.pyplot as plt\n",
    "import pandas as pd\n",
    "import seaborn as sns\n",
    "import numpy as np\n",
    "import os\n",
    "import wandb"
   ]
  },
  {
   "cell_type": "code",
   "execution_count": 2,
   "metadata": {},
   "outputs": [],
   "source": [
    "api = wandb.Api()"
   ]
  },
  {
   "cell_type": "code",
   "execution_count": 3,
   "metadata": {},
   "outputs": [],
   "source": [
    "def get_experiment_data(filters, name):\n",
    "    runs = api.runs(\"bartekcupial/sf2_nethack\", filters=filters)\n",
    "    data = []\n",
    "    for run in runs:\n",
    "        try:\n",
    "            artifact = api.artifact(f\"bartekcupial/sf2_nethack/run-{run.id}-table_results:v1\")\n",
    "            artifact_path = Path(\"artifacts\") / f\"run-{run.id}-table_results:v1\" / \"table_results.table.json\"\n",
    "            if artifact_path.exists():\n",
    "                table = wandb.Table.from_json(json.load(open(artifact_path, \"r+\")), artifact)\n",
    "            else:\n",
    "                table = artifact.get(\"table_results\")\n",
    "            df = table.get_dataframe()\n",
    "            df[\"seed\"] = run.config[\"seed\"]\n",
    "            df[\"train/env_steps\"] = run.summary_metrics[\"train/env_steps\"]\n",
    "            df[\"train_dir\"] = run.config[\"train_dir\"]\n",
    "            df[\"name\"] = name\n",
    "            df[\"exp_tag\"] = ast.literal_eval(run.config[\"exp_tags\"])[0]\n",
    "            data.append(df)\n",
    "        except Exception as e:\n",
    "            pass\n",
    "\n",
    "    df = pd.concat(data, axis=0).reset_index()\n",
    "    df.reset_index(drop=True, inplace=True)\n",
    "    return df"
   ]
  },
  {
   "cell_type": "code",
   "execution_count": 4,
   "metadata": {},
   "outputs": [],
   "source": [
    "data = get_experiment_data({\"config.exp_tags\": \"['2024_02_02_eval_full']\"}, \"all\")"
   ]
  },
  {
   "cell_type": "code",
   "execution_count": 10,
   "metadata": {},
   "outputs": [],
   "source": [
    "data[\"exp_tag\"] = data[\"train_dir\"].apply(lambda x: \"-\".join(x.split(\"/\")[-2].split(\"-\")[:-1]))"
   ]
  },
  {
   "cell_type": "code",
   "execution_count": 5,
   "metadata": {},
   "outputs": [
    {
     "data": {
      "text/plain": [
       "0                           killed by a bolt of lightning\n",
       "1                                       killed by a guard\n",
       "2       killed by a hobbit while fainted from lack of ...\n",
       "3       killed by an iguana while fainted from lack of...\n",
       "4       killed by a rothe while fainted from lack of food\n",
       "                              ...                        \n",
       "2386                                                 quit\n",
       "2387                                                 quit\n",
       "2388                                                 quit\n",
       "2389                                                 quit\n",
       "2390                                                 quit\n",
       "Name: death, Length: 2391, dtype: object"
      ]
     },
     "execution_count": 5,
     "metadata": {},
     "output_type": "execute_result"
    }
   ],
   "source": [
    "data[\"death\"]"
   ]
  },
  {
   "cell_type": "code",
   "execution_count": 49,
   "metadata": {},
   "outputs": [
    {
     "data": {
      "text/html": [
       "<div>\n",
       "<style scoped>\n",
       "    .dataframe tbody tr th:only-of-type {\n",
       "        vertical-align: middle;\n",
       "    }\n",
       "\n",
       "    .dataframe tbody tr th {\n",
       "        vertical-align: top;\n",
       "    }\n",
       "\n",
       "    .dataframe thead th {\n",
       "        text-align: right;\n",
       "    }\n",
       "</style>\n",
       "<table border=\"1\" class=\"dataframe\">\n",
       "  <thead>\n",
       "    <tr style=\"text-align: right;\">\n",
       "      <th></th>\n",
       "      <th>score</th>\n",
       "    </tr>\n",
       "    <tr>\n",
       "      <th>exp_tag</th>\n",
       "      <th></th>\n",
       "    </tr>\n",
       "  </thead>\n",
       "  <tbody>\n",
       "    <tr>\n",
       "      <th>2024-01-23-monk-appo</th>\n",
       "      <td>500</td>\n",
       "    </tr>\n",
       "    <tr>\n",
       "      <th>2024-01-23-monk-appo-bc-t</th>\n",
       "      <td>389</td>\n",
       "    </tr>\n",
       "    <tr>\n",
       "      <th>2024-01-23-monk-appo-ks-t</th>\n",
       "      <td>499</td>\n",
       "    </tr>\n",
       "    <tr>\n",
       "      <th>2024-01-23-monk-appo-t</th>\n",
       "      <td>515</td>\n",
       "    </tr>\n",
       "    <tr>\n",
       "      <th>2024-01-29-monk-appo-ewc-t</th>\n",
       "      <td>488</td>\n",
       "    </tr>\n",
       "  </tbody>\n",
       "</table>\n",
       "</div>"
      ],
      "text/plain": [
       "                            score\n",
       "exp_tag                          \n",
       "2024-01-23-monk-appo          500\n",
       "2024-01-23-monk-appo-bc-t     389\n",
       "2024-01-23-monk-appo-ks-t     499\n",
       "2024-01-23-monk-appo-t        515\n",
       "2024-01-29-monk-appo-ewc-t    488"
      ]
     },
     "execution_count": 49,
     "metadata": {},
     "output_type": "execute_result"
    }
   ],
   "source": [
    "data[[\"score\", \"exp_tag\"]].groupby(\"exp_tag\").count()"
   ]
  },
  {
   "cell_type": "code",
   "execution_count": 92,
   "metadata": {},
   "outputs": [
    {
     "name": "stdout",
     "output_type": "stream",
     "text": [
      "Tag: 2024-01-23-monk-appo-ks-t\n",
      "Death related to lack of food: 38.68% of the time!\n",
      "Excluding food related deaths\n",
      " count                                  death\n",
      "    18                                   quit\n",
      "    18                killed by a soldier ant\n",
      "    13              killed by a white unicorn\n",
      "    10   killed by the wrath of Chih Sung-tzu\n",
      "    10 poisoned by a rotted glob of gray ooze\n",
      "     9               killed by a Woodland-elf\n",
      "     9             petrified by a chickatrice\n",
      "     7                       killed by a wand\n",
      "     7                      killed by a guard\n",
      "     6                      killed by a mumak\n",
      "Tag: 2024-01-23-monk-appo-bc-t\n",
      "Death related to lack of food: 50.64% of the time!\n",
      "Excluding food related deaths\n",
      " count                                death\n",
      "    46                                 quit\n",
      "     8 killed by the wrath of Chih Sung-tzu\n",
      "     7                 killed by a hill orc\n",
      "     5              killed by a soldier ant\n",
      "     5                     killed by a wand\n",
      "     4                  killed by a wererat\n",
      "     4             killed by a bolt of cold\n",
      "     3             killed by a Woodland-elf\n",
      "     2         killed by a shattered potion\n",
      "     2            killed by a black unicorn\n",
      "Tag: 2024-01-29-monk-appo-ewc-t\n",
      "Death related to lack of food: 39.96% of the time!\n",
      "Excluding food related deaths\n",
      " count                                  death\n",
      "   118                                   quit\n",
      "     8 poisoned by a rotted glob of gray ooze\n",
      "     6   killed by the wrath of Chih Sung-tzu\n",
      "     5      killed by a gas spore's explosion\n",
      "     5                   killed by a hill orc\n",
      "     4               killed by a bolt of cold\n",
      "     4                      killed by a dwarf\n",
      "     4                     killed by a kitten\n",
      "     4                 killed by a little dog\n",
      "     4              killed by a magic missile\n",
      "Tag: 2024-01-23-monk-appo-t\n",
      "Death related to lack of food: 22.33% of the time!\n",
      "Excluding food related deaths\n",
      " count                                                     death\n",
      "   318                                                      quit\n",
      "    12                      killed by the wrath of Chih Sung-tzu\n",
      "     6                        poisoned by a rotted kobold corpse\n",
      "     5                          poisoned by a rotted newt corpse\n",
      "     3                                  killed by a bolt of cold\n",
      "     3                                     killed by a bear trap\n",
      "     2               killed by a fire elemental of Chih Sung-tzu\n",
      "     2   killed by a homunculus while frozen by a monster's gaze\n",
      "     2 killed by a large kobold while frozen by a monster's gaze\n",
      "     2                         killed by a gas spore's explosion\n",
      "Tag: 2024-01-23-monk-appo\n",
      "Death related to lack of food: 32.00% of the time!\n",
      "Excluding food related deaths\n",
      " count                                                death\n",
      "   186                                                 quit\n",
      "    14                 killed by the wrath of Chih Sung-tzu\n",
      "    12                                   killed by a kitten\n",
      "     6                               killed by a little dog\n",
      "     4                             killed by a bolt of fire\n",
      "     4    poisoned by a rotted iguana corpse while helpless\n",
      "     4                                   killed by a goblin\n",
      "     4        killed by an earth elemental of Chih Sung-tzu\n",
      "     4 killed by an iguana while frozen by a monster's gaze\n",
      "     3          killed by a fire elemental of Chih Sung-tzu\n"
     ]
    }
   ],
   "source": [
    "for tag in data[\"exp_tag\"].unique():\n",
    "    method_data = data[data[\"exp_tag\"] == tag]\n",
    "    unique, counts = np.unique(method_data[\"death\"].to_numpy(), return_counts=True)\n",
    "\n",
    "    c = counts[counts.argsort()[::-1]]\n",
    "    u = unique[counts.argsort()[::-1]]\n",
    "    df = pd.DataFrame({\"count\": c, \"death\": u})\n",
    "    print(f\"Tag: {tag}\")\n",
    "    print(f'Death related to lack of food: {(len(method_data[method_data[\"death\"].str.contains(\"food|starvation\")]) / len(method_data) * 100):.2f}% of the time!')\n",
    "    print(\"Excluding food related deaths\")\n",
    "    print(df[~df[\"death\"].str.contains(\"food|starvation\")][:10].to_string(index=False))\n"
   ]
  },
  {
   "cell_type": "code",
   "execution_count": null,
   "metadata": {},
   "outputs": [],
   "source": []
  }
 ],
 "metadata": {
  "kernelspec": {
   "display_name": "sf_nethack",
   "language": "python",
   "name": "python3"
  },
  "language_info": {
   "codemirror_mode": {
    "name": "ipython",
    "version": 3
   },
   "file_extension": ".py",
   "mimetype": "text/x-python",
   "name": "python",
   "nbconvert_exporter": "python",
   "pygments_lexer": "ipython3",
   "version": "3.10.13"
  }
 },
 "nbformat": 4,
 "nbformat_minor": 2
}
